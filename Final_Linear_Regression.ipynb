{
 "cells": [
  {
   "cell_type": "code",
   "execution_count": 138,
   "id": "92b7dda8",
   "metadata": {},
   "outputs": [],
   "source": [
    "import numpy as np\n",
    "import pandas as pd\n",
    "from sklearn import metrics\n",
    "%matplotlib inline\n",
    "import matplotlib.pyplot as plt"
   ]
  },
  {
   "cell_type": "code",
   "execution_count": 150,
   "id": "5de733dc",
   "metadata": {},
   "outputs": [],
   "source": [
    "#data=pd.read_csv(\"D:/NF/AAPL.csv\")\n",
    "#data=pd.read_csv(\"D:/NF/INFY.csv\")\n",
    "data=pd.read_csv(\"D:/NF/HDFC.csv\")\n",
    "#data=pd.read_csv(\"D:/NF/AAPL.csv\")\n",
    "#data=pd.read_csv(\"D:/NF/AAPL.csv\")"
   ]
  },
  {
   "cell_type": "code",
   "execution_count": 151,
   "id": "c343eada",
   "metadata": {},
   "outputs": [
    {
     "data": {
      "text/html": [
       "<div>\n",
       "<style scoped>\n",
       "    .dataframe tbody tr th:only-of-type {\n",
       "        vertical-align: middle;\n",
       "    }\n",
       "\n",
       "    .dataframe tbody tr th {\n",
       "        vertical-align: top;\n",
       "    }\n",
       "\n",
       "    .dataframe thead th {\n",
       "        text-align: right;\n",
       "    }\n",
       "</style>\n",
       "<table border=\"1\" class=\"dataframe\">\n",
       "  <thead>\n",
       "    <tr style=\"text-align: right;\">\n",
       "      <th></th>\n",
       "      <th>Date</th>\n",
       "      <th>Symbol</th>\n",
       "      <th>Series</th>\n",
       "      <th>Prev Close</th>\n",
       "      <th>Open</th>\n",
       "      <th>High</th>\n",
       "      <th>Low</th>\n",
       "      <th>Last</th>\n",
       "      <th>Close</th>\n",
       "      <th>VWAP</th>\n",
       "      <th>Volume</th>\n",
       "      <th>Turnover</th>\n",
       "      <th>Trades</th>\n",
       "      <th>Deliverable Volume</th>\n",
       "      <th>%Deliverble</th>\n",
       "    </tr>\n",
       "  </thead>\n",
       "  <tbody>\n",
       "    <tr>\n",
       "      <th>0</th>\n",
       "      <td>2000-01-03</td>\n",
       "      <td>HDFC</td>\n",
       "      <td>EQ</td>\n",
       "      <td>271.75</td>\n",
       "      <td>293.5</td>\n",
       "      <td>293.50</td>\n",
       "      <td>293.5</td>\n",
       "      <td>293.5</td>\n",
       "      <td>293.50</td>\n",
       "      <td>293.50</td>\n",
       "      <td>22744</td>\n",
       "      <td>6.675364e+11</td>\n",
       "      <td>NaN</td>\n",
       "      <td>NaN</td>\n",
       "      <td>NaN</td>\n",
       "    </tr>\n",
       "    <tr>\n",
       "      <th>1</th>\n",
       "      <td>2000-01-04</td>\n",
       "      <td>HDFC</td>\n",
       "      <td>EQ</td>\n",
       "      <td>293.50</td>\n",
       "      <td>317.0</td>\n",
       "      <td>317.00</td>\n",
       "      <td>297.0</td>\n",
       "      <td>304.0</td>\n",
       "      <td>304.05</td>\n",
       "      <td>303.62</td>\n",
       "      <td>255251</td>\n",
       "      <td>7.749972e+12</td>\n",
       "      <td>NaN</td>\n",
       "      <td>NaN</td>\n",
       "      <td>NaN</td>\n",
       "    </tr>\n",
       "    <tr>\n",
       "      <th>2</th>\n",
       "      <td>2000-01-05</td>\n",
       "      <td>HDFC</td>\n",
       "      <td>EQ</td>\n",
       "      <td>304.05</td>\n",
       "      <td>290.0</td>\n",
       "      <td>303.90</td>\n",
       "      <td>285.0</td>\n",
       "      <td>295.0</td>\n",
       "      <td>292.80</td>\n",
       "      <td>294.53</td>\n",
       "      <td>269087</td>\n",
       "      <td>7.925368e+12</td>\n",
       "      <td>NaN</td>\n",
       "      <td>NaN</td>\n",
       "      <td>NaN</td>\n",
       "    </tr>\n",
       "    <tr>\n",
       "      <th>3</th>\n",
       "      <td>2000-01-06</td>\n",
       "      <td>HDFC</td>\n",
       "      <td>EQ</td>\n",
       "      <td>292.80</td>\n",
       "      <td>301.0</td>\n",
       "      <td>314.00</td>\n",
       "      <td>295.0</td>\n",
       "      <td>296.0</td>\n",
       "      <td>296.45</td>\n",
       "      <td>300.14</td>\n",
       "      <td>305916</td>\n",
       "      <td>9.181669e+12</td>\n",
       "      <td>NaN</td>\n",
       "      <td>NaN</td>\n",
       "      <td>NaN</td>\n",
       "    </tr>\n",
       "    <tr>\n",
       "      <th>4</th>\n",
       "      <td>2000-01-07</td>\n",
       "      <td>HDFC</td>\n",
       "      <td>EQ</td>\n",
       "      <td>296.45</td>\n",
       "      <td>290.0</td>\n",
       "      <td>296.35</td>\n",
       "      <td>281.0</td>\n",
       "      <td>287.1</td>\n",
       "      <td>286.55</td>\n",
       "      <td>288.80</td>\n",
       "      <td>197039</td>\n",
       "      <td>5.690480e+12</td>\n",
       "      <td>NaN</td>\n",
       "      <td>NaN</td>\n",
       "      <td>NaN</td>\n",
       "    </tr>\n",
       "  </tbody>\n",
       "</table>\n",
       "</div>"
      ],
      "text/plain": [
       "         Date Symbol Series  Prev Close   Open    High    Low   Last   Close  \\\n",
       "0  2000-01-03   HDFC     EQ      271.75  293.5  293.50  293.5  293.5  293.50   \n",
       "1  2000-01-04   HDFC     EQ      293.50  317.0  317.00  297.0  304.0  304.05   \n",
       "2  2000-01-05   HDFC     EQ      304.05  290.0  303.90  285.0  295.0  292.80   \n",
       "3  2000-01-06   HDFC     EQ      292.80  301.0  314.00  295.0  296.0  296.45   \n",
       "4  2000-01-07   HDFC     EQ      296.45  290.0  296.35  281.0  287.1  286.55   \n",
       "\n",
       "     VWAP  Volume      Turnover  Trades  Deliverable Volume  %Deliverble  \n",
       "0  293.50   22744  6.675364e+11     NaN                 NaN          NaN  \n",
       "1  303.62  255251  7.749972e+12     NaN                 NaN          NaN  \n",
       "2  294.53  269087  7.925368e+12     NaN                 NaN          NaN  \n",
       "3  300.14  305916  9.181669e+12     NaN                 NaN          NaN  \n",
       "4  288.80  197039  5.690480e+12     NaN                 NaN          NaN  "
      ]
     },
     "execution_count": 151,
     "metadata": {},
     "output_type": "execute_result"
    }
   ],
   "source": [
    "data.head()"
   ]
  },
  {
   "cell_type": "code",
   "execution_count": 152,
   "id": "fdf3eb33",
   "metadata": {},
   "outputs": [],
   "source": [
    "data['Date'] = pd.to_datetime(data.Date,infer_datetime_format=True)"
   ]
  },
  {
   "cell_type": "code",
   "execution_count": 153,
   "id": "9ad1ad27",
   "metadata": {},
   "outputs": [
    {
     "data": {
      "text/plain": [
       "(5306, 15)"
      ]
     },
     "execution_count": 153,
     "metadata": {},
     "output_type": "execute_result"
    }
   ],
   "source": [
    "data.shape"
   ]
  },
  {
   "cell_type": "code",
   "execution_count": 154,
   "id": "d7ee3072",
   "metadata": {},
   "outputs": [],
   "source": [
    "data.drop('Close',axis=1 , inplace = True)"
   ]
  },
  {
   "cell_type": "code",
   "execution_count": 155,
   "id": "b4a38116",
   "metadata": {},
   "outputs": [
    {
     "data": {
      "text/html": [
       "<div>\n",
       "<style scoped>\n",
       "    .dataframe tbody tr th:only-of-type {\n",
       "        vertical-align: middle;\n",
       "    }\n",
       "\n",
       "    .dataframe tbody tr th {\n",
       "        vertical-align: top;\n",
       "    }\n",
       "\n",
       "    .dataframe thead th {\n",
       "        text-align: right;\n",
       "    }\n",
       "</style>\n",
       "<table border=\"1\" class=\"dataframe\">\n",
       "  <thead>\n",
       "    <tr style=\"text-align: right;\">\n",
       "      <th></th>\n",
       "      <th>Date</th>\n",
       "      <th>Symbol</th>\n",
       "      <th>Series</th>\n",
       "      <th>Prev Close</th>\n",
       "      <th>Open</th>\n",
       "      <th>High</th>\n",
       "      <th>Low</th>\n",
       "      <th>Last</th>\n",
       "      <th>VWAP</th>\n",
       "      <th>Volume</th>\n",
       "      <th>Turnover</th>\n",
       "      <th>Trades</th>\n",
       "      <th>Deliverable Volume</th>\n",
       "      <th>%Deliverble</th>\n",
       "    </tr>\n",
       "  </thead>\n",
       "  <tbody>\n",
       "    <tr>\n",
       "      <th>0</th>\n",
       "      <td>2000-01-03</td>\n",
       "      <td>HDFC</td>\n",
       "      <td>EQ</td>\n",
       "      <td>271.75</td>\n",
       "      <td>293.5</td>\n",
       "      <td>293.50</td>\n",
       "      <td>293.5</td>\n",
       "      <td>293.5</td>\n",
       "      <td>293.50</td>\n",
       "      <td>22744</td>\n",
       "      <td>6.675364e+11</td>\n",
       "      <td>NaN</td>\n",
       "      <td>NaN</td>\n",
       "      <td>NaN</td>\n",
       "    </tr>\n",
       "    <tr>\n",
       "      <th>1</th>\n",
       "      <td>2000-01-04</td>\n",
       "      <td>HDFC</td>\n",
       "      <td>EQ</td>\n",
       "      <td>293.50</td>\n",
       "      <td>317.0</td>\n",
       "      <td>317.00</td>\n",
       "      <td>297.0</td>\n",
       "      <td>304.0</td>\n",
       "      <td>303.62</td>\n",
       "      <td>255251</td>\n",
       "      <td>7.749972e+12</td>\n",
       "      <td>NaN</td>\n",
       "      <td>NaN</td>\n",
       "      <td>NaN</td>\n",
       "    </tr>\n",
       "    <tr>\n",
       "      <th>2</th>\n",
       "      <td>2000-01-05</td>\n",
       "      <td>HDFC</td>\n",
       "      <td>EQ</td>\n",
       "      <td>304.05</td>\n",
       "      <td>290.0</td>\n",
       "      <td>303.90</td>\n",
       "      <td>285.0</td>\n",
       "      <td>295.0</td>\n",
       "      <td>294.53</td>\n",
       "      <td>269087</td>\n",
       "      <td>7.925368e+12</td>\n",
       "      <td>NaN</td>\n",
       "      <td>NaN</td>\n",
       "      <td>NaN</td>\n",
       "    </tr>\n",
       "    <tr>\n",
       "      <th>3</th>\n",
       "      <td>2000-01-06</td>\n",
       "      <td>HDFC</td>\n",
       "      <td>EQ</td>\n",
       "      <td>292.80</td>\n",
       "      <td>301.0</td>\n",
       "      <td>314.00</td>\n",
       "      <td>295.0</td>\n",
       "      <td>296.0</td>\n",
       "      <td>300.14</td>\n",
       "      <td>305916</td>\n",
       "      <td>9.181669e+12</td>\n",
       "      <td>NaN</td>\n",
       "      <td>NaN</td>\n",
       "      <td>NaN</td>\n",
       "    </tr>\n",
       "    <tr>\n",
       "      <th>4</th>\n",
       "      <td>2000-01-07</td>\n",
       "      <td>HDFC</td>\n",
       "      <td>EQ</td>\n",
       "      <td>296.45</td>\n",
       "      <td>290.0</td>\n",
       "      <td>296.35</td>\n",
       "      <td>281.0</td>\n",
       "      <td>287.1</td>\n",
       "      <td>288.80</td>\n",
       "      <td>197039</td>\n",
       "      <td>5.690480e+12</td>\n",
       "      <td>NaN</td>\n",
       "      <td>NaN</td>\n",
       "      <td>NaN</td>\n",
       "    </tr>\n",
       "  </tbody>\n",
       "</table>\n",
       "</div>"
      ],
      "text/plain": [
       "        Date Symbol Series  Prev Close   Open    High    Low   Last    VWAP  \\\n",
       "0 2000-01-03   HDFC     EQ      271.75  293.5  293.50  293.5  293.5  293.50   \n",
       "1 2000-01-04   HDFC     EQ      293.50  317.0  317.00  297.0  304.0  303.62   \n",
       "2 2000-01-05   HDFC     EQ      304.05  290.0  303.90  285.0  295.0  294.53   \n",
       "3 2000-01-06   HDFC     EQ      292.80  301.0  314.00  295.0  296.0  300.14   \n",
       "4 2000-01-07   HDFC     EQ      296.45  290.0  296.35  281.0  287.1  288.80   \n",
       "\n",
       "   Volume      Turnover  Trades  Deliverable Volume  %Deliverble  \n",
       "0   22744  6.675364e+11     NaN                 NaN          NaN  \n",
       "1  255251  7.749972e+12     NaN                 NaN          NaN  \n",
       "2  269087  7.925368e+12     NaN                 NaN          NaN  \n",
       "3  305916  9.181669e+12     NaN                 NaN          NaN  \n",
       "4  197039  5.690480e+12     NaN                 NaN          NaN  "
      ]
     },
     "execution_count": 155,
     "metadata": {},
     "output_type": "execute_result"
    }
   ],
   "source": [
    "data.head()"
   ]
  },
  {
   "cell_type": "code",
   "execution_count": 156,
   "id": "cc3880c1",
   "metadata": {},
   "outputs": [
    {
     "data": {
      "text/plain": [
       "Date                     0\n",
       "Symbol                   0\n",
       "Series                   0\n",
       "Prev Close               0\n",
       "Open                     0\n",
       "High                     0\n",
       "Low                      0\n",
       "Last                     0\n",
       "VWAP                     0\n",
       "Volume                   0\n",
       "Turnover                 0\n",
       "Trades                2850\n",
       "Deliverable Volume     509\n",
       "%Deliverble            509\n",
       "dtype: int64"
      ]
     },
     "execution_count": 156,
     "metadata": {},
     "output_type": "execute_result"
    }
   ],
   "source": [
    "data.isnull().sum()"
   ]
  },
  {
   "cell_type": "code",
   "execution_count": 157,
   "id": "b98b27cb",
   "metadata": {},
   "outputs": [
    {
     "data": {
      "text/plain": [
       "Date                  False\n",
       "Symbol                False\n",
       "Series                False\n",
       "Prev Close            False\n",
       "Open                  False\n",
       "High                  False\n",
       "Low                   False\n",
       "Last                  False\n",
       "VWAP                  False\n",
       "Volume                False\n",
       "Turnover              False\n",
       "Trades                 True\n",
       "Deliverable Volume     True\n",
       "%Deliverble            True\n",
       "dtype: bool"
      ]
     },
     "execution_count": 157,
     "metadata": {},
     "output_type": "execute_result"
    }
   ],
   "source": [
    "data.isna().any()"
   ]
  },
  {
   "cell_type": "code",
   "execution_count": 158,
   "id": "f6b06232",
   "metadata": {},
   "outputs": [
    {
     "name": "stdout",
     "output_type": "stream",
     "text": [
      "<class 'pandas.core.frame.DataFrame'>\n",
      "RangeIndex: 5306 entries, 0 to 5305\n",
      "Data columns (total 14 columns):\n",
      " #   Column              Non-Null Count  Dtype         \n",
      "---  ------              --------------  -----         \n",
      " 0   Date                5306 non-null   datetime64[ns]\n",
      " 1   Symbol              5306 non-null   object        \n",
      " 2   Series              5306 non-null   object        \n",
      " 3   Prev Close          5306 non-null   float64       \n",
      " 4   Open                5306 non-null   float64       \n",
      " 5   High                5306 non-null   float64       \n",
      " 6   Low                 5306 non-null   float64       \n",
      " 7   Last                5306 non-null   float64       \n",
      " 8   VWAP                5306 non-null   float64       \n",
      " 9   Volume              5306 non-null   int64         \n",
      " 10  Turnover            5306 non-null   float64       \n",
      " 11  Trades              2456 non-null   float64       \n",
      " 12  Deliverable Volume  4797 non-null   float64       \n",
      " 13  %Deliverble         4797 non-null   float64       \n",
      "dtypes: datetime64[ns](1), float64(10), int64(1), object(2)\n",
      "memory usage: 580.5+ KB\n"
     ]
    }
   ],
   "source": [
    "data.info()"
   ]
  },
  {
   "cell_type": "code",
   "execution_count": 159,
   "id": "ffbf9cc3",
   "metadata": {},
   "outputs": [
    {
     "data": {
      "text/html": [
       "<div>\n",
       "<style scoped>\n",
       "    .dataframe tbody tr th:only-of-type {\n",
       "        vertical-align: middle;\n",
       "    }\n",
       "\n",
       "    .dataframe tbody tr th {\n",
       "        vertical-align: top;\n",
       "    }\n",
       "\n",
       "    .dataframe thead th {\n",
       "        text-align: right;\n",
       "    }\n",
       "</style>\n",
       "<table border=\"1\" class=\"dataframe\">\n",
       "  <thead>\n",
       "    <tr style=\"text-align: right;\">\n",
       "      <th></th>\n",
       "      <th>Prev Close</th>\n",
       "      <th>Open</th>\n",
       "      <th>High</th>\n",
       "      <th>Low</th>\n",
       "      <th>Last</th>\n",
       "      <th>VWAP</th>\n",
       "      <th>Volume</th>\n",
       "      <th>Turnover</th>\n",
       "      <th>Trades</th>\n",
       "      <th>Deliverable Volume</th>\n",
       "      <th>%Deliverble</th>\n",
       "    </tr>\n",
       "  </thead>\n",
       "  <tbody>\n",
       "    <tr>\n",
       "      <th>count</th>\n",
       "      <td>5306.000000</td>\n",
       "      <td>5306.000000</td>\n",
       "      <td>5306.000000</td>\n",
       "      <td>5306.000000</td>\n",
       "      <td>5306.000000</td>\n",
       "      <td>5306.000000</td>\n",
       "      <td>5.306000e+03</td>\n",
       "      <td>5.306000e+03</td>\n",
       "      <td>2456.000000</td>\n",
       "      <td>4.797000e+03</td>\n",
       "      <td>4797.000000</td>\n",
       "    </tr>\n",
       "    <tr>\n",
       "      <th>mean</th>\n",
       "      <td>1283.666114</td>\n",
       "      <td>1284.393074</td>\n",
       "      <td>1304.269732</td>\n",
       "      <td>1263.297842</td>\n",
       "      <td>1283.885017</td>\n",
       "      <td>1283.664578</td>\n",
       "      <td>1.848187e+06</td>\n",
       "      <td>2.620759e+14</td>\n",
       "      <td>102159.051303</td>\n",
       "      <td>1.329440e+06</td>\n",
       "      <td>0.653088</td>\n",
       "    </tr>\n",
       "    <tr>\n",
       "      <th>std</th>\n",
       "      <td>709.395090</td>\n",
       "      <td>709.703665</td>\n",
       "      <td>721.308080</td>\n",
       "      <td>697.450309</td>\n",
       "      <td>709.250204</td>\n",
       "      <td>709.109622</td>\n",
       "      <td>2.991387e+06</td>\n",
       "      <td>3.607844e+14</td>\n",
       "      <td>57948.603200</td>\n",
       "      <td>2.555073e+06</td>\n",
       "      <td>0.128115</td>\n",
       "    </tr>\n",
       "    <tr>\n",
       "      <th>min</th>\n",
       "      <td>271.750000</td>\n",
       "      <td>284.000000</td>\n",
       "      <td>290.500000</td>\n",
       "      <td>273.250000</td>\n",
       "      <td>282.850000</td>\n",
       "      <td>283.600000</td>\n",
       "      <td>2.919000e+03</td>\n",
       "      <td>1.834686e+11</td>\n",
       "      <td>973.000000</td>\n",
       "      <td>1.786000e+03</td>\n",
       "      <td>0.119000</td>\n",
       "    </tr>\n",
       "    <tr>\n",
       "      <th>25%</th>\n",
       "      <td>668.650000</td>\n",
       "      <td>669.712500</td>\n",
       "      <td>677.512500</td>\n",
       "      <td>660.000000</td>\n",
       "      <td>669.000000</td>\n",
       "      <td>668.265000</td>\n",
       "      <td>3.034970e+05</td>\n",
       "      <td>2.461178e+13</td>\n",
       "      <td>62011.500000</td>\n",
       "      <td>2.688070e+05</td>\n",
       "      <td>0.575200</td>\n",
       "    </tr>\n",
       "    <tr>\n",
       "      <th>50%</th>\n",
       "      <td>1136.275000</td>\n",
       "      <td>1135.400000</td>\n",
       "      <td>1156.725000</td>\n",
       "      <td>1119.000000</td>\n",
       "      <td>1135.000000</td>\n",
       "      <td>1136.720000</td>\n",
       "      <td>1.337788e+06</td>\n",
       "      <td>1.684207e+14</td>\n",
       "      <td>90405.000000</td>\n",
       "      <td>1.021574e+06</td>\n",
       "      <td>0.666900</td>\n",
       "    </tr>\n",
       "    <tr>\n",
       "      <th>75%</th>\n",
       "      <td>1811.475000</td>\n",
       "      <td>1813.812500</td>\n",
       "      <td>1835.000000</td>\n",
       "      <td>1783.075000</td>\n",
       "      <td>1812.000000</td>\n",
       "      <td>1811.680000</td>\n",
       "      <td>2.732310e+06</td>\n",
       "      <td>3.419282e+14</td>\n",
       "      <td>129754.500000</td>\n",
       "      <td>1.939101e+06</td>\n",
       "      <td>0.742000</td>\n",
       "    </tr>\n",
       "    <tr>\n",
       "      <th>max</th>\n",
       "      <td>3180.150000</td>\n",
       "      <td>3148.000000</td>\n",
       "      <td>3262.000000</td>\n",
       "      <td>3100.550000</td>\n",
       "      <td>3178.000000</td>\n",
       "      <td>3166.580000</td>\n",
       "      <td>1.584141e+08</td>\n",
       "      <td>1.043773e+16</td>\n",
       "      <td>538170.000000</td>\n",
       "      <td>1.483131e+08</td>\n",
       "      <td>0.989400</td>\n",
       "    </tr>\n",
       "  </tbody>\n",
       "</table>\n",
       "</div>"
      ],
      "text/plain": [
       "        Prev Close         Open         High          Low         Last  \\\n",
       "count  5306.000000  5306.000000  5306.000000  5306.000000  5306.000000   \n",
       "mean   1283.666114  1284.393074  1304.269732  1263.297842  1283.885017   \n",
       "std     709.395090   709.703665   721.308080   697.450309   709.250204   \n",
       "min     271.750000   284.000000   290.500000   273.250000   282.850000   \n",
       "25%     668.650000   669.712500   677.512500   660.000000   669.000000   \n",
       "50%    1136.275000  1135.400000  1156.725000  1119.000000  1135.000000   \n",
       "75%    1811.475000  1813.812500  1835.000000  1783.075000  1812.000000   \n",
       "max    3180.150000  3148.000000  3262.000000  3100.550000  3178.000000   \n",
       "\n",
       "              VWAP        Volume      Turnover         Trades  \\\n",
       "count  5306.000000  5.306000e+03  5.306000e+03    2456.000000   \n",
       "mean   1283.664578  1.848187e+06  2.620759e+14  102159.051303   \n",
       "std     709.109622  2.991387e+06  3.607844e+14   57948.603200   \n",
       "min     283.600000  2.919000e+03  1.834686e+11     973.000000   \n",
       "25%     668.265000  3.034970e+05  2.461178e+13   62011.500000   \n",
       "50%    1136.720000  1.337788e+06  1.684207e+14   90405.000000   \n",
       "75%    1811.680000  2.732310e+06  3.419282e+14  129754.500000   \n",
       "max    3166.580000  1.584141e+08  1.043773e+16  538170.000000   \n",
       "\n",
       "       Deliverable Volume  %Deliverble  \n",
       "count        4.797000e+03  4797.000000  \n",
       "mean         1.329440e+06     0.653088  \n",
       "std          2.555073e+06     0.128115  \n",
       "min          1.786000e+03     0.119000  \n",
       "25%          2.688070e+05     0.575200  \n",
       "50%          1.021574e+06     0.666900  \n",
       "75%          1.939101e+06     0.742000  \n",
       "max          1.483131e+08     0.989400  "
      ]
     },
     "execution_count": 159,
     "metadata": {},
     "output_type": "execute_result"
    }
   ],
   "source": [
    "data.describe()"
   ]
  },
  {
   "cell_type": "code",
   "execution_count": 160,
   "id": "c6c85ac1",
   "metadata": {},
   "outputs": [
    {
     "name": "stdout",
     "output_type": "stream",
     "text": [
      "5306\n"
     ]
    }
   ],
   "source": [
    "print(len(data))"
   ]
  },
  {
   "cell_type": "code",
   "execution_count": 161,
   "id": "0a6d1841",
   "metadata": {},
   "outputs": [
    {
     "data": {
      "text/plain": [
       "<AxesSubplot:>"
      ]
     },
     "execution_count": 161,
     "metadata": {},
     "output_type": "execute_result"
    },
    {
     "data": {
      "image/png": "[encoded data removed]",
      "text/plain": [
       "<Figure size 1600x600 with 1 Axes>"
      ]
     },
     "metadata": {},
     "output_type": "display_data"
    }
   ],
   "source": [
    "data['Open'].plot(figsize=(16,6))"
   ]
  },
  {
   "cell_type": "code",
   "execution_count": 164,
   "id": "97ee747f",
   "metadata": {},
   "outputs": [],
   "source": [
    "x = data[['Open','High','Low','Volume']]\n",
    "y = data['Prev Close']"
   ]
  },
  {
   "cell_type": "code",
   "execution_count": 165,
   "id": "eab1a9c6",
   "metadata": {},
   "outputs": [],
   "source": [
    "from sklearn.model_selection import train_test_split\n",
    "x_train , x_test , y_train , y_test = train_test_split(x,y,random_state=0)"
   ]
  },
  {
   "cell_type": "code",
   "execution_count": 166,
   "id": "9d04f838",
   "metadata": {},
   "outputs": [
    {
     "data": {
      "text/plain": [
       "(3979, 4)"
      ]
     },
     "execution_count": 166,
     "metadata": {},
     "output_type": "execute_result"
    }
   ],
   "source": [
    "x_train.shape"
   ]
  },
  {
   "cell_type": "code",
   "execution_count": 167,
   "id": "97b98855",
   "metadata": {},
   "outputs": [
    {
     "data": {
      "text/plain": [
       "(1327, 4)"
      ]
     },
     "execution_count": 167,
     "metadata": {},
     "output_type": "execute_result"
    }
   ],
   "source": [
    "x_test.shape"
   ]
  },
  {
   "cell_type": "code",
   "execution_count": 168,
   "id": "e373af2e",
   "metadata": {},
   "outputs": [],
   "source": [
    "from sklearn.linear_model import LinearRegression\n",
    "from sklearn.metrics import confusion_matrix, accuracy_score\n",
    "regressor = LinearRegression()"
   ]
  },
  {
   "cell_type": "code",
   "execution_count": 169,
   "id": "177edb6b",
   "metadata": {},
   "outputs": [
    {
     "data": {
      "text/plain": [
       "LinearRegression()"
      ]
     },
     "execution_count": 169,
     "metadata": {},
     "output_type": "execute_result"
    }
   ],
   "source": [
    "regressor.fit(x_train,y_train)"
   ]
  },
  {
   "cell_type": "code",
   "execution_count": 170,
   "id": "bc6aac31",
   "metadata": {},
   "outputs": [
    {
     "name": "stdout",
     "output_type": "stream",
     "text": [
      "[ 8.98753257e-01  1.06640036e-01 -9.12124752e-03  1.94420331e-07]\n"
     ]
    }
   ],
   "source": [
    "print(regressor.coef_)"
   ]
  },
  {
   "cell_type": "code",
   "execution_count": 171,
   "id": "3432d785",
   "metadata": {},
   "outputs": [
    {
     "name": "stdout",
     "output_type": "stream",
     "text": [
      "1.7145844297772328\n"
     ]
    }
   ],
   "source": [
    "print(regressor.intercept_)"
   ]
  },
  {
   "cell_type": "code",
   "execution_count": 172,
   "id": "e660587f",
   "metadata": {},
   "outputs": [],
   "source": [
    "predicted = regressor.predict(x_test)"
   ]
  },
  {
   "cell_type": "code",
   "execution_count": 173,
   "id": "2e0532f4",
   "metadata": {},
   "outputs": [
    {
     "name": "stdout",
     "output_type": "stream",
     "text": [
      "         Open    High      Low   Volume\n",
      "3655  1065.10  1076.5  1042.15  3614598\n",
      "29     354.00   369.0   345.00  1457178\n",
      "5135  1814.95  1849.0  1811.00  3816127\n",
      "3671  1026.50  1040.7  1012.75  2644331\n",
      "4681  1683.90  1689.7  1649.45  4632839\n",
      "...       ...     ...      ...      ...\n",
      "4198  1335.55  1362.1  1310.00  4422950\n",
      "4330  1521.70  1537.2  1503.45  1408855\n",
      "2048  2595.00  2716.5  2595.00   403259\n",
      "4058  1130.00  1139.4  1093.45  3916572\n",
      "4722  1970.00  1982.0  1943.05  1829220\n",
      "\n",
      "[1327 rows x 4 columns]\n"
     ]
    }
   ],
   "source": [
    "print(x_test)"
   ]
  },
  {
   "cell_type": "code",
   "execution_count": 174,
   "id": "4ba59d14",
   "metadata": {},
   "outputs": [
    {
     "data": {
      "text/plain": [
       "(1327,)"
      ]
     },
     "execution_count": 174,
     "metadata": {},
     "output_type": "execute_result"
    }
   ],
   "source": [
    "predicted.shape"
   ]
  },
  {
   "cell_type": "code",
   "execution_count": 175,
   "id": "b7e0962e",
   "metadata": {},
   "outputs": [],
   "source": [
    "dframe=pd.DataFrame(y_test,predicted)"
   ]
  },
  {
   "cell_type": "code",
   "execution_count": 176,
   "id": "cdadb097",
   "metadata": {},
   "outputs": [],
   "source": [
    "dfr=pd.DataFrame({'Actual Price':y_test,'Predicted Price': predicted})"
   ]
  },
  {
   "cell_type": "code",
   "execution_count": 177,
   "id": "e9c686a9",
   "metadata": {},
   "outputs": [
    {
     "name": "stdout",
     "output_type": "stream",
     "text": [
      "      Actual Price  Predicted Price\n",
      "3655       1064.40      1064.971720\n",
      "29          343.65       356.359885\n",
      "5135       1804.05      1814.307588\n",
      "3671       1034.10      1026.541656\n",
      "4681       1660.25      1681.170539\n",
      "...            ...              ...\n",
      "4198       1391.35      1336.209967\n",
      "4330       1519.85      1519.835049\n",
      "2048       2580.55      2600.075708\n",
      "4058       1114.95      1129.599255\n",
      "4722       1981.70      1966.251649\n",
      "\n",
      "[1327 rows x 2 columns]\n"
     ]
    }
   ],
   "source": [
    "print(dfr)"
   ]
  },
  {
   "cell_type": "code",
   "execution_count": 178,
   "id": "3ec3c7c0",
   "metadata": {},
   "outputs": [
    {
     "data": {
      "text/html": [
       "<div>\n",
       "<style scoped>\n",
       "    .dataframe tbody tr th:only-of-type {\n",
       "        vertical-align: middle;\n",
       "    }\n",
       "\n",
       "    .dataframe tbody tr th {\n",
       "        vertical-align: top;\n",
       "    }\n",
       "\n",
       "    .dataframe thead th {\n",
       "        text-align: right;\n",
       "    }\n",
       "</style>\n",
       "<table border=\"1\" class=\"dataframe\">\n",
       "  <thead>\n",
       "    <tr style=\"text-align: right;\">\n",
       "      <th></th>\n",
       "      <th>Actual Price</th>\n",
       "      <th>Predicted Price</th>\n",
       "    </tr>\n",
       "  </thead>\n",
       "  <tbody>\n",
       "    <tr>\n",
       "      <th>3655</th>\n",
       "      <td>1064.40</td>\n",
       "      <td>1064.971720</td>\n",
       "    </tr>\n",
       "    <tr>\n",
       "      <th>29</th>\n",
       "      <td>343.65</td>\n",
       "      <td>356.359885</td>\n",
       "    </tr>\n",
       "    <tr>\n",
       "      <th>5135</th>\n",
       "      <td>1804.05</td>\n",
       "      <td>1814.307588</td>\n",
       "    </tr>\n",
       "    <tr>\n",
       "      <th>3671</th>\n",
       "      <td>1034.10</td>\n",
       "      <td>1026.541656</td>\n",
       "    </tr>\n",
       "    <tr>\n",
       "      <th>4681</th>\n",
       "      <td>1660.25</td>\n",
       "      <td>1681.170539</td>\n",
       "    </tr>\n",
       "    <tr>\n",
       "      <th>2137</th>\n",
       "      <td>2096.55</td>\n",
       "      <td>2074.320084</td>\n",
       "    </tr>\n",
       "    <tr>\n",
       "      <th>4351</th>\n",
       "      <td>1631.50</td>\n",
       "      <td>1629.014485</td>\n",
       "    </tr>\n",
       "    <tr>\n",
       "      <th>4664</th>\n",
       "      <td>1718.70</td>\n",
       "      <td>1731.493350</td>\n",
       "    </tr>\n",
       "    <tr>\n",
       "      <th>5304</th>\n",
       "      <td>2577.00</td>\n",
       "      <td>2588.024616</td>\n",
       "    </tr>\n",
       "    <tr>\n",
       "      <th>398</th>\n",
       "      <td>680.75</td>\n",
       "      <td>685.377572</td>\n",
       "    </tr>\n",
       "    <tr>\n",
       "      <th>2447</th>\n",
       "      <td>2790.00</td>\n",
       "      <td>2765.206157</td>\n",
       "    </tr>\n",
       "    <tr>\n",
       "      <th>4590</th>\n",
       "      <td>1858.45</td>\n",
       "      <td>1858.816307</td>\n",
       "    </tr>\n",
       "    <tr>\n",
       "      <th>247</th>\n",
       "      <td>542.75</td>\n",
       "      <td>535.393696</td>\n",
       "    </tr>\n",
       "    <tr>\n",
       "      <th>5011</th>\n",
       "      <td>2377.25</td>\n",
       "      <td>2359.129324</td>\n",
       "    </tr>\n",
       "    <tr>\n",
       "      <th>5005</th>\n",
       "      <td>2435.15</td>\n",
       "      <td>2447.090315</td>\n",
       "    </tr>\n",
       "    <tr>\n",
       "      <th>4878</th>\n",
       "      <td>2189.90</td>\n",
       "      <td>2185.206511</td>\n",
       "    </tr>\n",
       "    <tr>\n",
       "      <th>5055</th>\n",
       "      <td>1836.75</td>\n",
       "      <td>1860.871712</td>\n",
       "    </tr>\n",
       "    <tr>\n",
       "      <th>4633</th>\n",
       "      <td>1979.30</td>\n",
       "      <td>1977.937554</td>\n",
       "    </tr>\n",
       "    <tr>\n",
       "      <th>684</th>\n",
       "      <td>593.65</td>\n",
       "      <td>580.756519</td>\n",
       "    </tr>\n",
       "    <tr>\n",
       "      <th>3614</th>\n",
       "      <td>971.00</td>\n",
       "      <td>974.374251</td>\n",
       "    </tr>\n",
       "    <tr>\n",
       "      <th>873</th>\n",
       "      <td>408.65</td>\n",
       "      <td>396.369432</td>\n",
       "    </tr>\n",
       "    <tr>\n",
       "      <th>2519</th>\n",
       "      <td>2418.50</td>\n",
       "      <td>2393.986194</td>\n",
       "    </tr>\n",
       "    <tr>\n",
       "      <th>4919</th>\n",
       "      <td>1987.95</td>\n",
       "      <td>1995.876141</td>\n",
       "    </tr>\n",
       "    <tr>\n",
       "      <th>5126</th>\n",
       "      <td>1798.95</td>\n",
       "      <td>1812.538981</td>\n",
       "    </tr>\n",
       "    <tr>\n",
       "      <th>2650</th>\n",
       "      <td>2985.60</td>\n",
       "      <td>2980.174254</td>\n",
       "    </tr>\n",
       "  </tbody>\n",
       "</table>\n",
       "</div>"
      ],
      "text/plain": [
       "      Actual Price  Predicted Price\n",
       "3655       1064.40      1064.971720\n",
       "29          343.65       356.359885\n",
       "5135       1804.05      1814.307588\n",
       "3671       1034.10      1026.541656\n",
       "4681       1660.25      1681.170539\n",
       "2137       2096.55      2074.320084\n",
       "4351       1631.50      1629.014485\n",
       "4664       1718.70      1731.493350\n",
       "5304       2577.00      2588.024616\n",
       "398         680.75       685.377572\n",
       "2447       2790.00      2765.206157\n",
       "4590       1858.45      1858.816307\n",
       "247         542.75       535.393696\n",
       "5011       2377.25      2359.129324\n",
       "5005       2435.15      2447.090315\n",
       "4878       2189.90      2185.206511\n",
       "5055       1836.75      1860.871712\n",
       "4633       1979.30      1977.937554\n",
       "684         593.65       580.756519\n",
       "3614        971.00       974.374251\n",
       "873         408.65       396.369432\n",
       "2519       2418.50      2393.986194\n",
       "4919       1987.95      1995.876141\n",
       "5126       1798.95      1812.538981\n",
       "2650       2985.60      2980.174254"
      ]
     },
     "execution_count": 178,
     "metadata": {},
     "output_type": "execute_result"
    }
   ],
   "source": [
    "dfr.head(25)"
   ]
  },
  {
   "cell_type": "code",
   "execution_count": 179,
   "id": "c990adc9",
   "metadata": {},
   "outputs": [],
   "source": [
    "from sklearn.metrics import confusion_matrix,accuracy_score"
   ]
  },
  {
   "cell_type": "code",
   "execution_count": 180,
   "id": "812112a2",
   "metadata": {},
   "outputs": [
    {
     "data": {
      "text/plain": [
       "0.9995933897477597"
      ]
     },
     "execution_count": 180,
     "metadata": {},
     "output_type": "execute_result"
    }
   ],
   "source": [
    "regressor.score(x_test,y_test)"
   ]
  },
  {
   "cell_type": "code",
   "execution_count": 181,
   "id": "8bd4aadf",
   "metadata": {},
   "outputs": [],
   "source": [
    "import math"
   ]
  },
  {
   "cell_type": "code",
   "execution_count": 182,
   "id": "9d18eca3",
   "metadata": {},
   "outputs": [
    {
     "name": "stdout",
     "output_type": "stream",
     "text": [
      "Mean Absolute Error: 8.581182999577496\n"
     ]
    }
   ],
   "source": [
    "print('Mean Absolute Error:',metrics.mean_absolute_error(y_test,predicted))"
   ]
  },
  {
   "cell_type": "code",
   "execution_count": 183,
   "id": "39c31927",
   "metadata": {},
   "outputs": [
    {
     "name": "stdout",
     "output_type": "stream",
     "text": [
      "Mean Squared Error: 8.581182999577496\n"
     ]
    }
   ],
   "source": [
    "print('Mean Squared Error:',metrics.mean_absolute_error(y_test,predicted))"
   ]
  },
  {
   "cell_type": "code",
   "execution_count": 184,
   "id": "f2eb37bb",
   "metadata": {},
   "outputs": [
    {
     "name": "stdout",
     "output_type": "stream",
     "text": [
      "Root Mean Squared Error: 14.220780857525604\n"
     ]
    }
   ],
   "source": [
    "print('Root Mean Squared Error:',math.sqrt(metrics.mean_squared_error(y_test,predicted)))"
   ]
  },
  {
   "cell_type": "code",
   "execution_count": 185,
   "id": "1326f8af",
   "metadata": {},
   "outputs": [],
   "source": [
    "graph=dfr.head(20)"
   ]
  },
  {
   "cell_type": "code",
   "execution_count": 186,
   "id": "d836b3ff",
   "metadata": {},
   "outputs": [
    {
     "data": {
      "text/plain": [
       "<AxesSubplot:>"
      ]
     },
     "execution_count": 186,
     "metadata": {},
     "output_type": "execute_result"
    },
    {
     "data": {
      "image/png": "[encoded data removed]",
      "text/plain": [
       "<Figure size 640x480 with 1 Axes>"
      ]
     },
     "metadata": {},
     "output_type": "display_data"
    }
   ],
   "source": [
    "graph.plot(kind='bar')"
   ]
  },
  {
   "cell_type": "code",
   "execution_count": null,
   "id": "db5756a0",
   "metadata": {},
   "outputs": [],
   "source": []
  },
  {
   "cell_type": "code",
   "execution_count": null,
   "id": "5829f0ac",
   "metadata": {},
   "outputs": [],
   "source": []
  },
  {
   "cell_type": "code",
   "execution_count": null,
   "id": "fb6279fd",
   "metadata": {},
   "outputs": [],
   "source": []
  }
 ],
 "metadata": {
  "kernelspec": {
   "display_name": "Python 3 (ipykernel)",
   "language": "python",
   "name": "python3"
  },
  "language_info": {
   "codemirror_mode": {
    "name": "ipython",
    "version": 3
   },
   "file_extension": ".py",
   "mimetype": "text/x-python",
   "name": "python",
   "nbconvert_exporter": "python",
   "pygments_lexer": "ipython3",
   "version": "3.9.13"
  }
 },
 "nbformat": 4,
 "nbformat_minor": 5
}
